{
 "cells": [
  {
   "cell_type": "markdown",
   "metadata": {},
   "source": [
    "# Tellende prosjekt i ISTx1003 - 2021\n",
    "\n",
    "I prosjektdelen av ISTx1003 Statistikk, Statistisk læring og data science, har vi fokus på tre hovedtemaer: \n",
    "regresjon, klassifikasjon og klyngeanalyse. \n",
    "\n",
    "Dette er oppgaveteksten til den tellende prosjektoppgaven, der besvarelsen teller 30% av karakteren i emnet.  \n",
    "\n",
    "Veiledning av prosjektoppgaven annonseres separat for hver campus i Blackboard.\n",
    "\n",
    "Oppgaven utføres i grupper, med anbefalt gruppestørrelse 2-4 personer. **Det er opprettet gruppesett under \"Prosjektoppgaven\" på Blackboard**, der dere melder dere på. \n",
    "\n",
    "Informasjon om Prosjektmodulen finnes i Blackboard.  \n",
    "\n",
    "Det er totalt xy spørsmålspunkter som skal besvares, og hvert spørsmålspunkt gir maksimalt ett poeng. Alle spørsmålene er skrevet inn i en tekstfil som skal brukes som mal for det som skal leveres inn. Tekstfilen ligger her: https://www.math.ntnu.no/emner/IST100x/ISTx1003/Prosjekt1003Qs.txt\n",
    "(Det er to grunner til å bruke denne malen: det letter samskriving og det letter karaktersetting.)\n",
    "\n",
    "Oppgaven skal utføres i Python, ved hjelp av Jupyter-notatbok-versjonen av denne filen som du nå leser. Notatboken er lastet opp på Jupyterhubben, men kan også finnes her: https://www.math.ntnu.no/emner/IST100x/ISTx1003/Prosjekt1003.ipynb\n",
    "og vil du bare lese notatboken så finnes den som html: https://www.math.ntnu.no/emner/IST100x/ISTx1003/Prosjekt1003.html\n",
    "\n",
    "Det er meningen at dere skal kjøre notatboken på Jupyterhubben vår https://s.ntnu.no/isthub, eller på deres egen installasjon.\n",
    "\n",
    "Innlevering av prosjektet skal skje som en innlevering på Blackboard, og kun en i hver gruppe leverer.\n",
    "\n",
    "**Følgende skal leveres inn (lastes opp på Blackboard):**\n",
    "\n",
    "* Svarene på spørsmålene som dere har skrevet inn i spørsmålsmalen og laget om til en pdf-fil (for eksempel om dere har gjor om malen til en word-fil og så lagret den som pdf).\n",
    "* Denne Jupyter-notatboken, der de endringene dere har gjort i koden er med.\n",
    "\n",
    "**Frist for innlevering av prosjektet er søndag 28.november kl 23.59.**"
   ]
  },
  {
   "cell_type": "markdown",
   "metadata": {},
   "source": [
    "# Oppgave 1: Regresjon\n",
    "\n",
    "\n",
    "Ide: Eksempel med eiendomspriser (fra kaggle)?\n",
    "Guttene fra Gjøvik sender kanskje noe med tidsdata fra overvåkningssystemet.\n",
    "\n",
    "Todo: Hvis vi ikke finner noen teknologiske dataeksempler, kan vi motivere bruk av f.eks. biologiske/genetiske eksempler med at dataingeniører kommer til å jobbe med alle slags data i framtiden, ikke bare teknologiske, avhengig av hvor de jobber.\n",
    " "
   ]
  },
  {
   "cell_type": "markdown",
   "metadata": {},
   "source": [
    "## 1a) Enkel linear regresjon"
   ]
  },
  {
   "cell_type": "markdown",
   "metadata": {},
   "source": [
    "## 1b) Multippel linear regresjon"
   ]
  },
  {
   "cell_type": "markdown",
   "metadata": {},
   "source": [
    "# Oppgave 2: Klassifikasjon\n",
    "\n",
    "* Eksempel fra kiran med face recognition? \n",
    "* Email spam/ham eksempel? Check here: \n",
    "    * https://www.kdnuggets.com/2017/03/email-spam-filtering-an-implementation-with-python-and-scikit-learn.html, \n",
    "    * or here: https://towardsdatascience.com/spam-detection-with-logistic-regression-23e3709e522\n"
   ]
  },
  {
   "cell_type": "markdown",
   "metadata": {},
   "source": [
    "## 2a) Lese inn og preprosessere data"
   ]
  },
  {
   "cell_type": "markdown",
   "metadata": {},
   "source": [
    "## 2b) Logistisk regresjon"
   ]
  },
  {
   "cell_type": "markdown",
   "metadata": {},
   "source": [
    "## 2c) $k$-nærmeste-nabo-klassifikasjon\n"
   ]
  },
  {
   "cell_type": "markdown",
   "metadata": {},
   "source": [
    "## 2d) Evaluere beste modeller\n"
   ]
  },
  {
   "cell_type": "markdown",
   "metadata": {},
   "source": [
    "# Oppgave 3: Klyngeanalyse\n",
    "\n",
    " \n",
    "\n",
    "## Hvorfor klyngeanalyse på ...?\n",
    "\n",
    " "
   ]
  },
  {
   "cell_type": "markdown",
   "metadata": {},
   "source": [
    "## 3a) Lese inn og preprosessere bildet"
   ]
  },
  {
   "cell_type": "markdown",
   "metadata": {},
   "source": [
    "## 3c) Klyngeanalyse med $K$-gjennomsnitt"
   ]
  },
  {
   "cell_type": "markdown",
   "metadata": {},
   "source": [
    "## 3d) Hierarkisk klyngeanalyse"
   ]
  }
 ],
 "metadata": {
  "kernelspec": {
   "display_name": "Python 3",
   "language": "python",
   "name": "python3"
  },
  "language_info": {
   "codemirror_mode": {
    "name": "ipython",
    "version": 3
   },
   "file_extension": ".py",
   "mimetype": "text/x-python",
   "name": "python",
   "nbconvert_exporter": "python",
   "pygments_lexer": "ipython3",
   "version": "3.8.8"
  }
 },
 "nbformat": 4,
 "nbformat_minor": 4
}
